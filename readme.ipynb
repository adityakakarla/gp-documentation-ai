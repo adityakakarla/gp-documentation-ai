{
 "cells": [
  {
   "cell_type": "code",
   "execution_count": 3,
   "metadata": {},
   "outputs": [],
   "source": [
    "import mistletoe\n",
    "import ollama\n",
    "from IPython.display import Markdown, display\n",
    "import requests"
   ]
  },
  {
   "cell_type": "code",
   "execution_count": null,
   "metadata": {},
   "outputs": [],
   "source": [
    "# execute ollama serve"
   ]
  },
  {
   "cell_type": "code",
   "execution_count": 22,
   "metadata": {},
   "outputs": [],
   "source": [
    "file_path = 'input/parameters.md'\n",
    "\n",
    "with open(file_path, 'r') as f:\n",
    "    rendered = mistletoe.markdown(f)"
   ]
  },
  {
   "cell_type": "code",
   "execution_count": 23,
   "metadata": {},
   "outputs": [
    {
     "data": {
      "text/markdown": [
       "# Bioinformatics Pipeline README\n",
       "## Summary\n",
       "This pipeline is designed to perform spatial enrichment analysis on normalized transcriptomics data using the STenrich algorithm. It provides parameters for controlling various aspects of the analysis, including input file type, gene set database, and parameters for estimating null distributions.\n",
       "\n",
       "## Use Cases\n",
       "The following use cases demonstrate the application of this pipeline:\n",
       "\n",
       "* Performing spatial enrichment analysis on a sample of 1000 high expression ROIs/spots/cells across multiple conditions.\n",
       "* Testing a gene set in different samples with varying minimum spot/ROI/cell numbers to ensure robustness.\n",
       "* Calculating standard deviations to define the high-expression threshold for a specific gene set.\n",
       "\n",
       "## Implementation\n",
       "This pipeline consists of the following modules:\n",
       "\n",
       "* **Input Preprocessing**: normalizes spatial transcriptomics data coming from the `spatialGE.Preprocessing` module.\n",
       "* **Gene Set Database Selection**: selects a gene set database to test for spatial enrichment (upload if not listed in MSigDB).\n",
       "* **Permutation Estimation**: estimates null distributions using different permutations of the STenrich algorithm.\n",
       "* **Random Seed Replication**: replicates results with varying random seed values to check for consistency.\n",
       "\n",
       "## Parameters\n",
       "The following parameters control various aspects of the analysis:\n",
       "\n",
       "| Parameter | Description | Default Value | Required |\n",
       "| --- | --- | --- | --- |\n",
       "| `input_file` | Normalized spatial transcriptomics data | * | Yes |\n",
       "| `gene_sets_database` | Select a gene set database to test for spatial enrichment | Upload if not listed as a choice from MSigDB | Yes |\n",
       "| `permutations` | The number of permutations to estimate null distribution (no-spatial pattern) | 100 | Yes |\n",
       "| `random_seed` | A seed number to replicate results | 12345 | No |\n",
       "| `minimum_spots` | The minimum number of high expression ROIs/spots/cells required for a gene set to be tested | 5 | Yes |\n",
       "| `minimum_genes` | The minimum number of genes of a set required to be present in a sample, for that gene set to be tested in that sample | 5 | Yes |\n",
       "| `standard_deviations` | The number of standard deviations to define the high-expression threshold | 1.0 | No |\n",
       "| `filter_p_values` | Plot only gene sets whose multiple test adjusted p-value is less than this threshold | 0.05 | No |\n",
       "| `filter_gene_proportion` | Plot only gene sets where the proportional number genes in the set present in the field of view equals or exceeds this threshold | 0.3 | No |\n",
       "\n",
       "Note: This README provides a general overview of the pipeline, and additional sections can be added as needed to provide further details on specific aspects of the implementation."
      ],
      "text/plain": [
       "<IPython.core.display.Markdown object>"
      ]
     },
     "metadata": {},
     "output_type": "display_data"
    }
   ],
   "source": [
    "response = ollama.chat(model='llama3.2:1b', messages=[{\n",
    "    'role': 'user',\n",
    "    'content': f'''\n",
    "    You are a bioinformatics researcher at GenePattern, a cutting edge open-source bioinformatics project.\n",
    "    \n",
    "    This content contains parameters for a bioinformatics piepeline. Create README documentation explaining this pipeline.\n",
    "    \n",
    "    Include at least the following sections: Summary, Use Cases, Implementation, and Parameters. Add more as you see fit.\n",
    "\n",
    "    Just reply with the README. Use Markdown format. You will be penalized for additional content (such as a summary or introduction).\n",
    "    {rendered}'''\n",
    "}])\n",
    "\n",
    "readme = response['message']['content']\n",
    "display(Markdown(readme))"
   ]
  },
  {
   "cell_type": "code",
   "execution_count": 24,
   "metadata": {},
   "outputs": [
    {
     "name": "stdout",
     "output_type": "stream",
     "text": [
      "Markdown file 'README.md' created successfully.\n"
     ]
    }
   ],
   "source": [
    "with open('output/README.md', 'w') as file:\n",
    "    file.write(readme)\n",
    "\n",
    "print(\"Markdown file 'README.md' created successfully.\")"
   ]
  },
  {
   "cell_type": "code",
   "execution_count": 26,
   "metadata": {},
   "outputs": [
    {
     "data": {
      "text/markdown": [
       "# Bioinformatics Pipeline README\n",
       "## Summary\n",
       "This pipeline is designed to perform spatial enrichment analysis on normalized transcriptomics data using the STenrich algorithm. It provides parameters for controlling various aspects of the analysis, including input file type, gene set database, and parameters for estimating null distributions.\n",
       "\n",
       "## Use Cases\n",
       "The following use cases demonstrate the application of this pipeline:\n",
       "\n",
       "* Performing spatial enrichment analysis on a sample of 1000 high expression ROIs/spots/cells across multiple conditions.\n",
       "* Testing a gene set in different samples with varying minimum spot/ROI/cell numbers to ensure robustness.\n",
       "* Calculating standard deviations to define the high-expression threshold for a specific gene set.\n",
       "\n",
       "## Implementation\n",
       "This pipeline consists of the following modules:\n",
       "\n",
       "* **Input Preprocessing**: normalizes spatial transcriptomics data coming from the `spatialGE.Preprocessing` module.\n",
       "* **Gene Set Database Selection**: selects a gene set database to test for spatial enrichment (upload if not listed in MSigDB).\n",
       "* **Permutation Estimation**: estimates null distributions using different permutations of the STenrich algorithm.\n",
       "* **Random Seed Replication**: replicates results with varying random seed values to check for consistency.\n",
       "\n",
       "## Parameters\n",
       "The following parameters control various aspects of the analysis:\n",
       "\n",
       "| Parameter | Description | Default Value | Required |\n",
       "| --- | --- | --- | --- |\n",
       "| `input_file` | Normalized spatial transcriptomics data | * | Yes |\n",
       "| `gene_sets_database` | Select a gene set database to test for spatial enrichment | Upload if not listed as a choice from MSigDB | Yes |\n",
       "| `permutations` | The number of permutations to estimate null distribution (no-spatial pattern) | 100 | Yes |\n",
       "| `random_seed` | A seed number to replicate results | 12345 | No |\n",
       "| `minimum_spots` | The minimum number of high expression ROIs/spots/cells required for a gene set to be tested | 5 | Yes |\n",
       "| `minimum_genes` | The minimum number of genes of a set required to be present in a sample, for that gene set to be tested in that sample | 5 | Yes |\n",
       "| `standard_deviations` | The number of standard deviations to define the high-expression threshold | 1.0 | No |\n",
       "| `filter_p_values` | Plot only gene sets whose multiple test adjusted p-value is less than this threshold | 0.05 | No |\n",
       "| `filter_gene_proportion` | Plot only gene sets where the proportional number genes in the set present in the field of view equals or exceeds this threshold | 0.3 | No |\n",
       "\n",
       "Note: This README provides a general overview of the pipeline, and additional sections can be added as needed to provide further details on specific aspects of the implementation."
      ],
      "text/plain": [
       "<IPython.core.display.Markdown object>"
      ]
     },
     "metadata": {},
     "output_type": "display_data"
    }
   ],
   "source": [
    "with open('output/README.md', 'r') as file:\n",
    "    display(Markdown(file.read()))"
   ]
  },
  {
   "cell_type": "code",
   "execution_count": null,
   "metadata": {},
   "outputs": [],
   "source": []
  }
 ],
 "metadata": {
  "kernelspec": {
   "display_name": "base",
   "language": "python",
   "name": "python3"
  },
  "language_info": {
   "codemirror_mode": {
    "name": "ipython",
    "version": 3
   },
   "file_extension": ".py",
   "mimetype": "text/x-python",
   "name": "python",
   "nbconvert_exporter": "python",
   "pygments_lexer": "ipython3",
   "version": "3.12.5"
  }
 },
 "nbformat": 4,
 "nbformat_minor": 2
}
